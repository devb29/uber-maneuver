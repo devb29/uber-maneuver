{
 "cells": [
  {
   "cell_type": "code",
   "execution_count": 1,
   "id": "40c9a55f",
   "metadata": {},
   "outputs": [],
   "source": [
    "import pandas as pd\n",
    "import geopy"
   ]
  },
  {
   "cell_type": "markdown",
   "id": "92a25052",
   "metadata": {},
   "source": [
    "For data analyses, latitude and longitude data was convered to zipcode. Code has been adapted from: https://gis.stackexchange.com/questions/352961/convert-lat-lon-to-zip-postal-code-using-python"
   ]
  },
  {
   "cell_type": "markdown",
   "id": "2bbb5e53",
   "metadata": {},
   "source": [
    "## Green taxi zipcodes"
   ]
  },
  {
   "cell_type": "markdown",
   "id": "876e8cf6",
   "metadata": {},
   "source": [
    "This dataset too large. To avoid \"GeoCoder unavailable: HTTPSConnectionPool\" error, completed in two seperate files that split the data in half."
   ]
  },
  {
   "cell_type": "markdown",
   "id": "f0d21c8b",
   "metadata": {},
   "source": [
    "### Part 1"
   ]
  },
  {
   "cell_type": "code",
   "execution_count": 2,
   "id": "7ee7998c",
   "metadata": {},
   "outputs": [],
   "source": [
    "columns = ['pickup_time','pickup_latitude','pickup_longitude']\n",
    "\n",
    "green_taxi_1 = pd.read_csv('google_sheets_green_taxi_1.csv', usecols = columns)"
   ]
  },
  {
   "cell_type": "code",
   "execution_count": 17,
   "id": "78c1d83c",
   "metadata": {},
   "outputs": [
    {
     "data": {
      "text/html": [
       "<div>\n",
       "<style scoped>\n",
       "    .dataframe tbody tr th:only-of-type {\n",
       "        vertical-align: middle;\n",
       "    }\n",
       "\n",
       "    .dataframe tbody tr th {\n",
       "        vertical-align: top;\n",
       "    }\n",
       "\n",
       "    .dataframe thead th {\n",
       "        text-align: right;\n",
       "    }\n",
       "</style>\n",
       "<table border=\"1\" class=\"dataframe\">\n",
       "  <thead>\n",
       "    <tr style=\"text-align: right;\">\n",
       "      <th></th>\n",
       "      <th>pickup_time</th>\n",
       "      <th>pickup_latitude</th>\n",
       "      <th>pickup_longitude</th>\n",
       "    </tr>\n",
       "  </thead>\n",
       "  <tbody>\n",
       "    <tr>\n",
       "      <th>0</th>\n",
       "      <td>11:17:23 PM</td>\n",
       "      <td>40.708153</td>\n",
       "      <td>-73.943352</td>\n",
       "    </tr>\n",
       "    <tr>\n",
       "      <th>1</th>\n",
       "      <td>5:05:32 PM</td>\n",
       "      <td>40.847874</td>\n",
       "      <td>-73.934738</td>\n",
       "    </tr>\n",
       "    <tr>\n",
       "      <th>2</th>\n",
       "      <td>3:02:28 AM</td>\n",
       "      <td>40.759380</td>\n",
       "      <td>-73.830322</td>\n",
       "    </tr>\n",
       "    <tr>\n",
       "      <th>3</th>\n",
       "      <td>3:07:37 PM</td>\n",
       "      <td>40.665527</td>\n",
       "      <td>-73.921448</td>\n",
       "    </tr>\n",
       "    <tr>\n",
       "      <th>4</th>\n",
       "      <td>10:15:46 PM</td>\n",
       "      <td>40.750786</td>\n",
       "      <td>-73.875938</td>\n",
       "    </tr>\n",
       "    <tr>\n",
       "      <th>...</th>\n",
       "      <td>...</td>\n",
       "      <td>...</td>\n",
       "      <td>...</td>\n",
       "    </tr>\n",
       "    <tr>\n",
       "      <th>20494</th>\n",
       "      <td>8:26:45 PM</td>\n",
       "      <td>40.751476</td>\n",
       "      <td>-73.855736</td>\n",
       "    </tr>\n",
       "    <tr>\n",
       "      <th>20495</th>\n",
       "      <td>3:38:07 PM</td>\n",
       "      <td>40.789658</td>\n",
       "      <td>-73.952461</td>\n",
       "    </tr>\n",
       "    <tr>\n",
       "      <th>20496</th>\n",
       "      <td>11:47:38 AM</td>\n",
       "      <td>40.759499</td>\n",
       "      <td>-73.830460</td>\n",
       "    </tr>\n",
       "    <tr>\n",
       "      <th>20497</th>\n",
       "      <td>9:46:11 AM</td>\n",
       "      <td>40.870136</td>\n",
       "      <td>-73.890694</td>\n",
       "    </tr>\n",
       "    <tr>\n",
       "      <th>20498</th>\n",
       "      <td>6:08:59 PM</td>\n",
       "      <td>40.788841</td>\n",
       "      <td>-73.952904</td>\n",
       "    </tr>\n",
       "  </tbody>\n",
       "</table>\n",
       "<p>20499 rows × 3 columns</p>\n",
       "</div>"
      ],
      "text/plain": [
       "       pickup_time  pickup_latitude  pickup_longitude\n",
       "0      11:17:23 PM        40.708153        -73.943352\n",
       "1       5:05:32 PM        40.847874        -73.934738\n",
       "2       3:02:28 AM        40.759380        -73.830322\n",
       "3       3:07:37 PM        40.665527        -73.921448\n",
       "4      10:15:46 PM        40.750786        -73.875938\n",
       "...            ...              ...               ...\n",
       "20494   8:26:45 PM        40.751476        -73.855736\n",
       "20495   3:38:07 PM        40.789658        -73.952461\n",
       "20496  11:47:38 AM        40.759499        -73.830460\n",
       "20497   9:46:11 AM        40.870136        -73.890694\n",
       "20498   6:08:59 PM        40.788841        -73.952904\n",
       "\n",
       "[20499 rows x 3 columns]"
      ]
     },
     "execution_count": 17,
     "metadata": {},
     "output_type": "execute_result"
    }
   ],
   "source": [
    "green_taxi_1"
   ]
  },
  {
   "cell_type": "code",
   "execution_count": 3,
   "id": "27c7bb64",
   "metadata": {},
   "outputs": [],
   "source": [
    "def get_zipcode(df, geolocator, lat_field, lon_field):\n",
    "    location = geolocator.reverse((df[lat_field], df[lon_field]))\n",
    "    \n",
    "    if 'postcode' in location.raw['address']:\n",
    "        return location.raw['address']['postcode']\n",
    "    else:\n",
    "        return None\n",
    "\n",
    "geolocator = geopy.Nominatim(user_agent='http')\n",
    "\n",
    "green_taxi_zipcodes_1 = green_taxi_1.apply(get_zipcode, axis=1, geolocator=geolocator, lat_field='pickup_latitude', lon_field='pickup_longitude')"
   ]
  },
  {
   "cell_type": "code",
   "execution_count": 4,
   "id": "eebbb0de",
   "metadata": {
    "scrolled": true
   },
   "outputs": [
    {
     "data": {
      "text/plain": [
       "0         11206\n",
       "1         10033\n",
       "2        111354\n",
       "3         11212\n",
       "4         11372\n",
       "          ...  \n",
       "20494     11368\n",
       "20495     10029\n",
       "20496    111354\n",
       "20497     10458\n",
       "20498     10129\n",
       "Length: 20499, dtype: object"
      ]
     },
     "execution_count": 4,
     "metadata": {},
     "output_type": "execute_result"
    }
   ],
   "source": [
    "green_taxi_zipcodes_1"
   ]
  },
  {
   "cell_type": "code",
   "execution_count": 22,
   "id": "645579a4",
   "metadata": {},
   "outputs": [],
   "source": [
    "green_taxi_zipcodes_1.to_csv('green_taxi_zipcodes_1.csv')"
   ]
  },
  {
   "cell_type": "markdown",
   "id": "12c4eec8",
   "metadata": {},
   "source": [
    "### Part 2"
   ]
  },
  {
   "cell_type": "code",
   "execution_count": 7,
   "id": "64e426c7",
   "metadata": {},
   "outputs": [],
   "source": [
    "columns = ['pickup_time','pickup_latitude','pickup_longitude']\n",
    "\n",
    "green_taxi_2 = pd.read_csv('google_sheets_green_taxi_2.csv', usecols = columns)"
   ]
  },
  {
   "cell_type": "code",
   "execution_count": 18,
   "id": "009d8233",
   "metadata": {},
   "outputs": [
    {
     "data": {
      "text/html": [
       "<div>\n",
       "<style scoped>\n",
       "    .dataframe tbody tr th:only-of-type {\n",
       "        vertical-align: middle;\n",
       "    }\n",
       "\n",
       "    .dataframe tbody tr th {\n",
       "        vertical-align: top;\n",
       "    }\n",
       "\n",
       "    .dataframe thead th {\n",
       "        text-align: right;\n",
       "    }\n",
       "</style>\n",
       "<table border=\"1\" class=\"dataframe\">\n",
       "  <thead>\n",
       "    <tr style=\"text-align: right;\">\n",
       "      <th></th>\n",
       "      <th>pickup_time</th>\n",
       "      <th>pickup_latitude</th>\n",
       "      <th>pickup_longitude</th>\n",
       "    </tr>\n",
       "  </thead>\n",
       "  <tbody>\n",
       "    <tr>\n",
       "      <th>0</th>\n",
       "      <td>11:36:32 PM</td>\n",
       "      <td>40.721931</td>\n",
       "      <td>-73.957840</td>\n",
       "    </tr>\n",
       "    <tr>\n",
       "      <th>1</th>\n",
       "      <td>7:33:56 PM</td>\n",
       "      <td>40.670479</td>\n",
       "      <td>-73.988777</td>\n",
       "    </tr>\n",
       "    <tr>\n",
       "      <th>2</th>\n",
       "      <td>11:38:50 PM</td>\n",
       "      <td>40.714054</td>\n",
       "      <td>-73.955666</td>\n",
       "    </tr>\n",
       "    <tr>\n",
       "      <th>3</th>\n",
       "      <td>10:23:03 AM</td>\n",
       "      <td>40.770329</td>\n",
       "      <td>-73.932220</td>\n",
       "    </tr>\n",
       "    <tr>\n",
       "      <th>4</th>\n",
       "      <td>11:33:33 PM</td>\n",
       "      <td>40.806618</td>\n",
       "      <td>-73.942696</td>\n",
       "    </tr>\n",
       "    <tr>\n",
       "      <th>...</th>\n",
       "      <td>...</td>\n",
       "      <td>...</td>\n",
       "      <td>...</td>\n",
       "    </tr>\n",
       "    <tr>\n",
       "      <th>25403</th>\n",
       "      <td>9:29:15 AM</td>\n",
       "      <td>40.691311</td>\n",
       "      <td>-73.944992</td>\n",
       "    </tr>\n",
       "    <tr>\n",
       "      <th>25404</th>\n",
       "      <td>8:22:16 PM</td>\n",
       "      <td>40.744556</td>\n",
       "      <td>-73.886261</td>\n",
       "    </tr>\n",
       "    <tr>\n",
       "      <th>25405</th>\n",
       "      <td>3:45:04 AM</td>\n",
       "      <td>40.746994</td>\n",
       "      <td>-73.890022</td>\n",
       "    </tr>\n",
       "    <tr>\n",
       "      <th>25406</th>\n",
       "      <td>6:46:50 PM</td>\n",
       "      <td>40.787498</td>\n",
       "      <td>-73.947708</td>\n",
       "    </tr>\n",
       "    <tr>\n",
       "      <th>25407</th>\n",
       "      <td>8:05:11 PM</td>\n",
       "      <td>40.630840</td>\n",
       "      <td>-73.976868</td>\n",
       "    </tr>\n",
       "  </tbody>\n",
       "</table>\n",
       "<p>25408 rows × 3 columns</p>\n",
       "</div>"
      ],
      "text/plain": [
       "       pickup_time  pickup_latitude  pickup_longitude\n",
       "0      11:36:32 PM        40.721931        -73.957840\n",
       "1       7:33:56 PM        40.670479        -73.988777\n",
       "2      11:38:50 PM        40.714054        -73.955666\n",
       "3      10:23:03 AM        40.770329        -73.932220\n",
       "4      11:33:33 PM        40.806618        -73.942696\n",
       "...            ...              ...               ...\n",
       "25403   9:29:15 AM        40.691311        -73.944992\n",
       "25404   8:22:16 PM        40.744556        -73.886261\n",
       "25405   3:45:04 AM        40.746994        -73.890022\n",
       "25406   6:46:50 PM        40.787498        -73.947708\n",
       "25407   8:05:11 PM        40.630840        -73.976868\n",
       "\n",
       "[25408 rows x 3 columns]"
      ]
     },
     "execution_count": 18,
     "metadata": {},
     "output_type": "execute_result"
    }
   ],
   "source": [
    "green_taxi_2"
   ]
  },
  {
   "cell_type": "code",
   "execution_count": 10,
   "id": "0ab310d6",
   "metadata": {},
   "outputs": [],
   "source": [
    "def get_zipcode(df, geolocator, lat_field, lon_field):\n",
    "    location = geolocator.reverse((df[lat_field], df[lon_field]))\n",
    "    \n",
    "    if 'postcode' in location.raw['address']:\n",
    "        return location.raw['address']['postcode']\n",
    "    else:\n",
    "        return None\n",
    "\n",
    "geolocator = geopy.Nominatim(user_agent='myencoder')\n",
    "\n",
    "green_taxi_zipcodes_2 = green_taxi_2.apply(get_zipcode, axis=1, geolocator=geolocator, lat_field='pickup_latitude', lon_field='pickup_longitude')"
   ]
  },
  {
   "cell_type": "code",
   "execution_count": 11,
   "id": "a6c2ebf5",
   "metadata": {},
   "outputs": [
    {
     "data": {
      "text/plain": [
       "0        11249\n",
       "1        11215\n",
       "2        11211\n",
       "3        11102\n",
       "4        10027\n",
       "         ...  \n",
       "25403    11221\n",
       "25404    11373\n",
       "25405    11373\n",
       "25406    10029\n",
       "25407    11230\n",
       "Length: 25408, dtype: object"
      ]
     },
     "execution_count": 11,
     "metadata": {},
     "output_type": "execute_result"
    }
   ],
   "source": [
    "green_taxi_zipcodes_2"
   ]
  },
  {
   "cell_type": "code",
   "execution_count": 23,
   "id": "e281cac9",
   "metadata": {},
   "outputs": [],
   "source": [
    "green_taxi_zipcodes_2.to_csv('green_taxi_zipcodes_2.csv')"
   ]
  }
 ],
 "metadata": {
  "kernelspec": {
   "display_name": "Python 3",
   "language": "python",
   "name": "python3"
  },
  "language_info": {
   "codemirror_mode": {
    "name": "ipython",
    "version": 3
   },
   "file_extension": ".py",
   "mimetype": "text/x-python",
   "name": "python",
   "nbconvert_exporter": "python",
   "pygments_lexer": "ipython3",
   "version": "3.8.8"
  }
 },
 "nbformat": 4,
 "nbformat_minor": 5
}
