{
 "cells": [
  {
   "cell_type": "code",
   "execution_count": 8,
   "id": "3d371b49",
   "metadata": {},
   "outputs": [],
   "source": [
    "import pandas as pd\n",
    "import geopy"
   ]
  },
  {
   "cell_type": "markdown",
   "id": "ed2d3a30",
   "metadata": {},
   "source": [
    "For data analyses, latitude and longitude data was convered to zipcode. Code has been adapted from: https://gis.stackexchange.com/questions/352961/convert-lat-lon-to-zip-postal-code-using-python"
   ]
  },
  {
   "cell_type": "markdown",
   "id": "2b4ee729",
   "metadata": {},
   "source": [
    "## Uber zipcodes"
   ]
  },
  {
   "cell_type": "code",
   "execution_count": 30,
   "id": "9b22b2a0",
   "metadata": {},
   "outputs": [],
   "source": [
    "columns = ['pickup_time','pickup_latitude','pickup_longitude']\n",
    "\n",
    "uber = pd.read_csv('google_sheets_uber.csv', usecols = columns)"
   ]
  },
  {
   "cell_type": "code",
   "execution_count": 5,
   "id": "4e98dfab",
   "metadata": {},
   "outputs": [
    {
     "data": {
      "text/html": [
       "<div>\n",
       "<style scoped>\n",
       "    .dataframe tbody tr th:only-of-type {\n",
       "        vertical-align: middle;\n",
       "    }\n",
       "\n",
       "    .dataframe tbody tr th {\n",
       "        vertical-align: top;\n",
       "    }\n",
       "\n",
       "    .dataframe thead th {\n",
       "        text-align: right;\n",
       "    }\n",
       "</style>\n",
       "<table border=\"1\" class=\"dataframe\">\n",
       "  <thead>\n",
       "    <tr style=\"text-align: right;\">\n",
       "      <th></th>\n",
       "      <th>pickup_time</th>\n",
       "      <th>pickup_latitude</th>\n",
       "      <th>pickup_longitude</th>\n",
       "    </tr>\n",
       "  </thead>\n",
       "  <tbody>\n",
       "    <tr>\n",
       "      <th>0</th>\n",
       "      <td>12:00:00 AM</td>\n",
       "      <td>40.8057</td>\n",
       "      <td>-73.9654</td>\n",
       "    </tr>\n",
       "    <tr>\n",
       "      <th>1</th>\n",
       "      <td>12:01:00 AM</td>\n",
       "      <td>40.7886</td>\n",
       "      <td>-73.9781</td>\n",
       "    </tr>\n",
       "    <tr>\n",
       "      <th>2</th>\n",
       "      <td>12:01:00 AM</td>\n",
       "      <td>40.7445</td>\n",
       "      <td>-73.9811</td>\n",
       "    </tr>\n",
       "    <tr>\n",
       "      <th>3</th>\n",
       "      <td>12:01:00 AM</td>\n",
       "      <td>40.7293</td>\n",
       "      <td>-73.9871</td>\n",
       "    </tr>\n",
       "    <tr>\n",
       "      <th>4</th>\n",
       "      <td>12:02:00 AM</td>\n",
       "      <td>40.7410</td>\n",
       "      <td>-74.0355</td>\n",
       "    </tr>\n",
       "    <tr>\n",
       "      <th>...</th>\n",
       "      <td>...</td>\n",
       "      <td>...</td>\n",
       "      <td>...</td>\n",
       "    </tr>\n",
       "    <tr>\n",
       "      <th>18069</th>\n",
       "      <td>11:39:00 PM</td>\n",
       "      <td>40.7487</td>\n",
       "      <td>-73.9733</td>\n",
       "    </tr>\n",
       "    <tr>\n",
       "      <th>18070</th>\n",
       "      <td>11:49:00 PM</td>\n",
       "      <td>40.7221</td>\n",
       "      <td>-74.0089</td>\n",
       "    </tr>\n",
       "    <tr>\n",
       "      <th>18071</th>\n",
       "      <td>11:54:00 PM</td>\n",
       "      <td>40.7328</td>\n",
       "      <td>-74.0025</td>\n",
       "    </tr>\n",
       "    <tr>\n",
       "      <th>18072</th>\n",
       "      <td>11:56:00 PM</td>\n",
       "      <td>40.7323</td>\n",
       "      <td>-73.9964</td>\n",
       "    </tr>\n",
       "    <tr>\n",
       "      <th>18073</th>\n",
       "      <td>11:57:00 PM</td>\n",
       "      <td>40.7386</td>\n",
       "      <td>-73.9876</td>\n",
       "    </tr>\n",
       "  </tbody>\n",
       "</table>\n",
       "<p>18074 rows × 3 columns</p>\n",
       "</div>"
      ],
      "text/plain": [
       "       pickup_time  pickup_latitude  pickup_longitude\n",
       "0      12:00:00 AM          40.8057          -73.9654\n",
       "1      12:01:00 AM          40.7886          -73.9781\n",
       "2      12:01:00 AM          40.7445          -73.9811\n",
       "3      12:01:00 AM          40.7293          -73.9871\n",
       "4      12:02:00 AM          40.7410          -74.0355\n",
       "...            ...              ...               ...\n",
       "18069  11:39:00 PM          40.7487          -73.9733\n",
       "18070  11:49:00 PM          40.7221          -74.0089\n",
       "18071  11:54:00 PM          40.7328          -74.0025\n",
       "18072  11:56:00 PM          40.7323          -73.9964\n",
       "18073  11:57:00 PM          40.7386          -73.9876\n",
       "\n",
       "[18074 rows x 3 columns]"
      ]
     },
     "execution_count": 5,
     "metadata": {},
     "output_type": "execute_result"
    }
   ],
   "source": [
    "uber"
   ]
  },
  {
   "cell_type": "code",
   "execution_count": 13,
   "id": "6677e0d1",
   "metadata": {},
   "outputs": [],
   "source": [
    "def get_zipcode(df, geolocator, lat_field, lon_field):\n",
    "    location = geolocator.reverse((df[lat_field], df[lon_field]))\n",
    "    \n",
    "    if 'postcode' in location.raw['address']: # This checks if 'postcode' is in the keys of this location.raw['address'] obj which is a dict\n",
    "        return location.raw['address']['postcode'] # If yes, return this\n",
    "    else:\n",
    "        return None # If no, return None\n",
    "\n",
    "geolocator = geopy.Nominatim(user_agent='http')\n",
    "\n",
    "uber_zipcodes = uber.apply(get_zipcode, axis=1, geolocator=geolocator, lat_field='pickup_latitude', lon_field='pickup_longitude')"
   ]
  },
  {
   "cell_type": "code",
   "execution_count": 37,
   "id": "3c930be6",
   "metadata": {},
   "outputs": [
    {
     "data": {
      "text/plain": [
       "0        10115\n",
       "1        10024\n",
       "2        10016\n",
       "3        10003\n",
       "4        07030\n",
       "         ...  \n",
       "18069    10035\n",
       "18070    10013\n",
       "18071    10014\n",
       "18072    10011\n",
       "18073    10010\n",
       "Length: 18074, dtype: object"
      ]
     },
     "execution_count": 37,
     "metadata": {},
     "output_type": "execute_result"
    }
   ],
   "source": [
    "uber_zipcodes"
   ]
  },
  {
   "cell_type": "code",
   "execution_count": 28,
   "id": "d4eba49a",
   "metadata": {},
   "outputs": [],
   "source": [
    "uber_zipcodes.to_csv('uber_zipcodes.csv')"
   ]
  }
 ],
 "metadata": {
  "kernelspec": {
   "display_name": "Python 3",
   "language": "python",
   "name": "python3"
  },
  "language_info": {
   "codemirror_mode": {
    "name": "ipython",
    "version": 3
   },
   "file_extension": ".py",
   "mimetype": "text/x-python",
   "name": "python",
   "nbconvert_exporter": "python",
   "pygments_lexer": "ipython3",
   "version": "3.8.8"
  }
 },
 "nbformat": 4,
 "nbformat_minor": 5
}
