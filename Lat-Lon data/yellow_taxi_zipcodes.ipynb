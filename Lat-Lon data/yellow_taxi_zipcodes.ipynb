{
 "cells": [
  {
   "cell_type": "code",
   "execution_count": 1,
   "id": "40c9a55f",
   "metadata": {},
   "outputs": [],
   "source": [
    "import pandas as pd\n",
    "import geopy"
   ]
  },
  {
   "cell_type": "markdown",
   "id": "92a25052",
   "metadata": {},
   "source": [
    "For data analyses, latitude and longitude data was convered to zipcode. Code has been adapted from: https://gis.stackexchange.com/questions/352961/convert-lat-lon-to-zip-postal-code-using-python"
   ]
  },
  {
   "cell_type": "markdown",
   "id": "2bbb5e53",
   "metadata": {},
   "source": [
    "## Yellow taxi zipcodes"
   ]
  },
  {
   "cell_type": "markdown",
   "id": "876e8cf6",
   "metadata": {},
   "source": [
    "This dataset too large. To avoid \"GeoCoder unavailable: HTTPSConnectionPool\" error, completed in two seperate files that split the data in half."
   ]
  },
  {
   "cell_type": "markdown",
   "id": "f0d21c8b",
   "metadata": {},
   "source": [
    "### Part 1"
   ]
  },
  {
   "cell_type": "code",
   "execution_count": 2,
   "id": "7ee7998c",
   "metadata": {},
   "outputs": [],
   "source": [
    "columns = ['pickup_time','pickup_latitude','pickup_longitude']\n",
    "\n",
    "yellow_taxi_1 = pd.read_csv('google_sheets_yellow_taxi_1.csv', usecols = columns)"
   ]
  },
  {
   "cell_type": "code",
   "execution_count": 3,
   "id": "78c1d83c",
   "metadata": {},
   "outputs": [
    {
     "data": {
      "text/html": [
       "<div>\n",
       "<style scoped>\n",
       "    .dataframe tbody tr th:only-of-type {\n",
       "        vertical-align: middle;\n",
       "    }\n",
       "\n",
       "    .dataframe tbody tr th {\n",
       "        vertical-align: top;\n",
       "    }\n",
       "\n",
       "    .dataframe thead th {\n",
       "        text-align: right;\n",
       "    }\n",
       "</style>\n",
       "<table border=\"1\" class=\"dataframe\">\n",
       "  <thead>\n",
       "    <tr style=\"text-align: right;\">\n",
       "      <th></th>\n",
       "      <th>pickup_time</th>\n",
       "      <th>pickup_latitude</th>\n",
       "      <th>pickup_longitude</th>\n",
       "    </tr>\n",
       "  </thead>\n",
       "  <tbody>\n",
       "    <tr>\n",
       "      <th>0</th>\n",
       "      <td>12:34:00 AM</td>\n",
       "      <td>40.734792</td>\n",
       "      <td>-73.990077</td>\n",
       "    </tr>\n",
       "    <tr>\n",
       "      <th>1</th>\n",
       "      <td>7:04:00 PM</td>\n",
       "      <td>40.755542</td>\n",
       "      <td>-73.983700</td>\n",
       "    </tr>\n",
       "    <tr>\n",
       "      <th>2</th>\n",
       "      <td>9:38:30 PM</td>\n",
       "      <td>40.801980</td>\n",
       "      <td>-73.957175</td>\n",
       "    </tr>\n",
       "    <tr>\n",
       "      <th>3</th>\n",
       "      <td>1:50:05 AM</td>\n",
       "      <td>40.718649</td>\n",
       "      <td>-74.000403</td>\n",
       "    </tr>\n",
       "    <tr>\n",
       "      <th>4</th>\n",
       "      <td>11:54:41 AM</td>\n",
       "      <td>40.737751</td>\n",
       "      <td>-73.992124</td>\n",
       "    </tr>\n",
       "    <tr>\n",
       "      <th>...</th>\n",
       "      <td>...</td>\n",
       "      <td>...</td>\n",
       "      <td>...</td>\n",
       "    </tr>\n",
       "    <tr>\n",
       "      <th>24994</th>\n",
       "      <td>3:24:00 PM</td>\n",
       "      <td>40.749342</td>\n",
       "      <td>-73.992102</td>\n",
       "    </tr>\n",
       "    <tr>\n",
       "      <th>24995</th>\n",
       "      <td>11:11:00 PM</td>\n",
       "      <td>40.754030</td>\n",
       "      <td>-73.995870</td>\n",
       "    </tr>\n",
       "    <tr>\n",
       "      <th>24996</th>\n",
       "      <td>6:06:00 PM</td>\n",
       "      <td>40.758712</td>\n",
       "      <td>-73.972747</td>\n",
       "    </tr>\n",
       "    <tr>\n",
       "      <th>24997</th>\n",
       "      <td>1:45:00 PM</td>\n",
       "      <td>40.748447</td>\n",
       "      <td>-74.008065</td>\n",
       "    </tr>\n",
       "    <tr>\n",
       "      <th>24998</th>\n",
       "      <td>7:13:00 PM</td>\n",
       "      <td>40.776342</td>\n",
       "      <td>-73.989787</td>\n",
       "    </tr>\n",
       "  </tbody>\n",
       "</table>\n",
       "<p>24999 rows × 3 columns</p>\n",
       "</div>"
      ],
      "text/plain": [
       "       pickup_time  pickup_latitude  pickup_longitude\n",
       "0      12:34:00 AM        40.734792        -73.990077\n",
       "1       7:04:00 PM        40.755542        -73.983700\n",
       "2       9:38:30 PM        40.801980        -73.957175\n",
       "3       1:50:05 AM        40.718649        -74.000403\n",
       "4      11:54:41 AM        40.737751        -73.992124\n",
       "...            ...              ...               ...\n",
       "24994   3:24:00 PM        40.749342        -73.992102\n",
       "24995  11:11:00 PM        40.754030        -73.995870\n",
       "24996   6:06:00 PM        40.758712        -73.972747\n",
       "24997   1:45:00 PM        40.748447        -74.008065\n",
       "24998   7:13:00 PM        40.776342        -73.989787\n",
       "\n",
       "[24999 rows x 3 columns]"
      ]
     },
     "execution_count": 3,
     "metadata": {},
     "output_type": "execute_result"
    }
   ],
   "source": [
    "yellow_taxi_1"
   ]
  },
  {
   "cell_type": "code",
   "execution_count": 6,
   "id": "27c7bb64",
   "metadata": {},
   "outputs": [],
   "source": [
    "def get_zipcode(df, geolocator, lat_field, lon_field):\n",
    "    location = geolocator.reverse((df[lat_field], df[lon_field]))\n",
    "    \n",
    "    if 'postcode' in location.raw['address']:\n",
    "        return location.raw['address']['postcode']\n",
    "    else:\n",
    "        return None\n",
    "\n",
    "geolocator = geopy.Nominatim(user_agent='https')\n",
    "\n",
    "yellow_taxi_zipcodes_1 = yellow_taxi_1.apply(get_zipcode, axis=1, geolocator=geolocator, lat_field='pickup_latitude', lon_field='pickup_longitude')"
   ]
  },
  {
   "cell_type": "code",
   "execution_count": 7,
   "id": "eebbb0de",
   "metadata": {
    "scrolled": true
   },
   "outputs": [
    {
     "data": {
      "text/plain": [
       "0         10003\n",
       "1         10036\n",
       "2         10039\n",
       "3         10013\n",
       "4         10003\n",
       "          ...  \n",
       "24994     10119\n",
       "24995     10001\n",
       "24996      None\n",
       "24997    100014\n",
       "24998      None\n",
       "Length: 24999, dtype: object"
      ]
     },
     "execution_count": 7,
     "metadata": {},
     "output_type": "execute_result"
    }
   ],
   "source": [
    "yellow_taxi_zipcodes_1"
   ]
  },
  {
   "cell_type": "code",
   "execution_count": 8,
   "id": "645579a4",
   "metadata": {},
   "outputs": [],
   "source": [
    "yellow_taxi_zipcodes_1.to_csv('yellow_taxi_zipcodes_1.csv')"
   ]
  },
  {
   "cell_type": "markdown",
   "id": "12c4eec8",
   "metadata": {},
   "source": [
    "### Part 2"
   ]
  },
  {
   "cell_type": "code",
   "execution_count": 2,
   "id": "64e426c7",
   "metadata": {},
   "outputs": [],
   "source": [
    "columns = ['pickup_time','pickup_latitude','pickup_longitude']\n",
    "\n",
    "yellow_taxi_2 = pd.read_csv('google_sheets_yellow_taxi_2.csv', usecols = columns)"
   ]
  },
  {
   "cell_type": "code",
   "execution_count": 3,
   "id": "009d8233",
   "metadata": {},
   "outputs": [
    {
     "data": {
      "text/html": [
       "<div>\n",
       "<style scoped>\n",
       "    .dataframe tbody tr th:only-of-type {\n",
       "        vertical-align: middle;\n",
       "    }\n",
       "\n",
       "    .dataframe tbody tr th {\n",
       "        vertical-align: top;\n",
       "    }\n",
       "\n",
       "    .dataframe thead th {\n",
       "        text-align: right;\n",
       "    }\n",
       "</style>\n",
       "<table border=\"1\" class=\"dataframe\">\n",
       "  <thead>\n",
       "    <tr style=\"text-align: right;\">\n",
       "      <th></th>\n",
       "      <th>pickup_time</th>\n",
       "      <th>pickup_latitude</th>\n",
       "      <th>pickup_longitude</th>\n",
       "    </tr>\n",
       "  </thead>\n",
       "  <tbody>\n",
       "    <tr>\n",
       "      <th>0</th>\n",
       "      <td>10:09:00 PM</td>\n",
       "      <td>40.727902</td>\n",
       "      <td>-73.985005</td>\n",
       "    </tr>\n",
       "    <tr>\n",
       "      <th>1</th>\n",
       "      <td>6:46:26 PM</td>\n",
       "      <td>40.756994</td>\n",
       "      <td>-74.001239</td>\n",
       "    </tr>\n",
       "    <tr>\n",
       "      <th>2</th>\n",
       "      <td>3:35:00 PM</td>\n",
       "      <td>40.715620</td>\n",
       "      <td>-73.996548</td>\n",
       "    </tr>\n",
       "    <tr>\n",
       "      <th>3</th>\n",
       "      <td>10:16:00 PM</td>\n",
       "      <td>40.719367</td>\n",
       "      <td>-74.010035</td>\n",
       "    </tr>\n",
       "    <tr>\n",
       "      <th>4</th>\n",
       "      <td>1:16:00 PM</td>\n",
       "      <td>40.797202</td>\n",
       "      <td>-73.969765</td>\n",
       "    </tr>\n",
       "    <tr>\n",
       "      <th>...</th>\n",
       "      <td>...</td>\n",
       "      <td>...</td>\n",
       "      <td>...</td>\n",
       "    </tr>\n",
       "    <tr>\n",
       "      <th>23775</th>\n",
       "      <td>12:35:28 AM</td>\n",
       "      <td>40.728358</td>\n",
       "      <td>-74.002468</td>\n",
       "    </tr>\n",
       "    <tr>\n",
       "      <th>23776</th>\n",
       "      <td>8:02:53 AM</td>\n",
       "      <td>40.719583</td>\n",
       "      <td>-73.991930</td>\n",
       "    </tr>\n",
       "    <tr>\n",
       "      <th>23777</th>\n",
       "      <td>1:59:00 PM</td>\n",
       "      <td>40.750507</td>\n",
       "      <td>-73.986772</td>\n",
       "    </tr>\n",
       "    <tr>\n",
       "      <th>23778</th>\n",
       "      <td>7:48:00 PM</td>\n",
       "      <td>40.744005</td>\n",
       "      <td>-74.001537</td>\n",
       "    </tr>\n",
       "    <tr>\n",
       "      <th>23779</th>\n",
       "      <td>7:39:00 PM</td>\n",
       "      <td>40.723406</td>\n",
       "      <td>-73.991051</td>\n",
       "    </tr>\n",
       "  </tbody>\n",
       "</table>\n",
       "<p>23780 rows × 3 columns</p>\n",
       "</div>"
      ],
      "text/plain": [
       "       pickup_time  pickup_latitude  pickup_longitude\n",
       "0      10:09:00 PM        40.727902        -73.985005\n",
       "1       6:46:26 PM        40.756994        -74.001239\n",
       "2       3:35:00 PM        40.715620        -73.996548\n",
       "3      10:16:00 PM        40.719367        -74.010035\n",
       "4       1:16:00 PM        40.797202        -73.969765\n",
       "...            ...              ...               ...\n",
       "23775  12:35:28 AM        40.728358        -74.002468\n",
       "23776   8:02:53 AM        40.719583        -73.991930\n",
       "23777   1:59:00 PM        40.750507        -73.986772\n",
       "23778   7:48:00 PM        40.744005        -74.001537\n",
       "23779   7:39:00 PM        40.723406        -73.991051\n",
       "\n",
       "[23780 rows x 3 columns]"
      ]
     },
     "execution_count": 3,
     "metadata": {},
     "output_type": "execute_result"
    }
   ],
   "source": [
    "yellow_taxi_2"
   ]
  },
  {
   "cell_type": "code",
   "execution_count": 5,
   "id": "0ab310d6",
   "metadata": {},
   "outputs": [],
   "source": [
    "def get_zipcode(df, geolocator, lat_field, lon_field):\n",
    "    location = geolocator.reverse((df[lat_field], df[lon_field]))\n",
    "    \n",
    "    if 'postcode' in location.raw['address']:\n",
    "        return location.raw['address']['postcode']\n",
    "    else:\n",
    "        return None\n",
    "\n",
    "geolocator = geopy.Nominatim(user_agent='devra.alper@gmail.com')\n",
    "\n",
    "yellow_taxi_zipcodes_2 = yellow_taxi_2.apply(get_zipcode, axis=1, geolocator=geolocator, lat_field='pickup_latitude', lon_field='pickup_longitude')"
   ]
  },
  {
   "cell_type": "code",
   "execution_count": 6,
   "id": "a6c2ebf5",
   "metadata": {},
   "outputs": [
    {
     "data": {
      "text/plain": [
       "0             10009\n",
       "1             10018\n",
       "2             10013\n",
       "3             10013\n",
       "4             10025\n",
       "            ...    \n",
       "23775    10014-3621\n",
       "23776         10002\n",
       "23777         10018\n",
       "23778         10011\n",
       "23779    10012-3332\n",
       "Length: 23780, dtype: object"
      ]
     },
     "execution_count": 6,
     "metadata": {},
     "output_type": "execute_result"
    }
   ],
   "source": [
    "yellow_taxi_zipcodes_2"
   ]
  },
  {
   "cell_type": "code",
   "execution_count": 7,
   "id": "e281cac9",
   "metadata": {},
   "outputs": [],
   "source": [
    "yellow_taxi_zipcodes_2.to_csv('yellow_taxi_zipcodes_2.csv')"
   ]
  }
 ],
 "metadata": {
  "kernelspec": {
   "display_name": "Python 3",
   "language": "python",
   "name": "python3"
  },
  "language_info": {
   "codemirror_mode": {
    "name": "ipython",
    "version": 3
   },
   "file_extension": ".py",
   "mimetype": "text/x-python",
   "name": "python",
   "nbconvert_exporter": "python",
   "pygments_lexer": "ipython3",
   "version": "3.8.8"
  }
 },
 "nbformat": 4,
 "nbformat_minor": 5
}
